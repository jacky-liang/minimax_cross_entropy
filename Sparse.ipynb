{
 "cells": [
  {
   "cell_type": "code",
   "execution_count": 12,
   "metadata": {
    "collapsed": true
   },
   "outputs": [],
   "source": [
    "from __future__ import print_function\n",
    "import torch\n",
    "from torch.autograd import Variable, Function\n",
    "import torch.nn as nn\n",
    "import torch.nn.functional as F\n",
    "import torch.optim as optim\n",
    "\n",
    "from torchtext import data\n",
    "from torchtext import datasets\n",
    "from torchtext.vocab import GloVe, CharNGram\n",
    "\n",
    "import scipy.io as sio\n",
    "%matplotlib inline\n",
    "import matplotlib.pyplot as plt\n",
    "import numpy as np\n",
    "from pickle import dump\n",
    "\n",
    "from minimax_entropy import MinimaxEntropyEstimator\n",
    "\n",
    "# https://github.com/pytorch/text\n",
    "# http://cogcomp.org/Data/QA/QC/\n",
    "# note, increasing dim decreases loss (we can see that disimilar things in hd space are very far away)"
   ]
  },
  {
   "cell_type": "code",
   "execution_count": 2,
   "metadata": {
    "collapsed": false
   },
   "outputs": [],
   "source": [
    "n_samples = 50\n",
    "batch_size = 100\n",
    "learning_rate = 1\n",
    "dim = 1000\n",
    "classes = 6\n",
    "class_dict = {'loc':0, 'hum':1, 'num':2, 'abbr':3, 'enty':4, 'desc':5}\n",
    "word_dict = {}\n",
    "alph = 'abcdefghijklmnopqrstuvwxyz#.:-'\n",
    "letter_vecs = 2 * (np.random.randn(len(alph), dim) < 0) - 1\n",
    "\n",
    "entro = MinimaxEntropyEstimator('poly_coeff_entro.mat', n_samples, gpu=True)"
   ]
  },
  {
   "cell_type": "code",
   "execution_count": 3,
   "metadata": {
    "collapsed": false
   },
   "outputs": [],
   "source": [
    "def read_data(url):\n",
    "    texts, labels = [], []\n",
    "    with open(url) as f:\n",
    "        content = f.readlines()\n",
    "        content = list(set(content))\n",
    "        for i in range(len(content)):\n",
    "            l = content[i].lower()\n",
    "            l = l.replace('\\'', '')\n",
    "            l = l.replace('``', '')\n",
    "            l = l.replace('?', '')\n",
    "            l = l.split(' ')\n",
    "            l = filter(None, l)\n",
    "            \n",
    "            label = l[0].split(':')[0]\n",
    "            l = l[1:len(l)-1]\n",
    "            texts.append(l)\n",
    "            labels.append(class_dict[label])\n",
    "    return texts, labels\n",
    "\n",
    "def batch_data(texts, labels, batch_size):\n",
    "    text_batches, label_batches = [], []\n",
    "    previ = 0\n",
    "    for i in range(batch_size,len(texts), batch_size):\n",
    "        text_batches.append(texts[previ:i])\n",
    "        label_batches.append(np.array(labels[previ:i]))\n",
    "        previ = i\n",
    "    remainder = len(texts)% batch_size\n",
    "\n",
    "    if len(texts) % batch_size != 0:\n",
    "        ri = len(texts)-remainder\n",
    "        text_batches.append(texts[ri:])\n",
    "        label_batches.append(np.array(labels[ri:]))\n",
    "    return text_batches, label_batches\n",
    "\n",
    "def ngram_encode(ngram_str):\n",
    "    vec = np.zeros(letter_vecs.shape[1])\n",
    "    full_str = '#' + ngram_str + '.'\n",
    "    \n",
    "    for il, l in enumerate(full_str[:-2]):\n",
    "        trivec = letter_vecs[alph.find(full_str[il]), :]\n",
    "        for c3 in range(1, 3):\n",
    "            trivec = trivec * np.roll(letter_vecs[alph.find(full_str[il+c3]), :], c3)\n",
    "            \n",
    "        vec += trivec\n",
    "    return vec\n",
    "\n",
    "def ngram_encode_cl(ngram_str):\n",
    "    vec = ngram_encode(ngram_str)\n",
    "    return 2* (vec + 0.1*(np.random.rand(letter_vecs.shape[1])-0.5) > 0) - 1\n",
    "\n",
    "def encode_text(texts):\n",
    "    sentences = np.zeros((len(texts), dim))\n",
    "    for i in range(len(texts)):\n",
    "        s_vec = np.ones(dim)\n",
    "        for j in range(len(texts[i])):\n",
    "            vec = ngram_encode_cl(texts[i][j])\n",
    "            s_vec = s_vec*np.roll(vec, j)\n",
    "        sentences[i] = s_vec\n",
    "    return sentences\n"
   ]
  },
  {
   "cell_type": "code",
   "execution_count": 4,
   "metadata": {
    "collapsed": true
   },
   "outputs": [],
   "source": [
    "testurl = 'data/raw/TREC_10.label'\n",
    "trainurl = 'data/raw/train_5500.label'\n",
    "test_texts, test_labels = read_data(testurl)\n",
    "train_texts, train_labels = read_data(trainurl)"
   ]
  },
  {
   "cell_type": "code",
   "execution_count": 5,
   "metadata": {
    "collapsed": true
   },
   "outputs": [],
   "source": [
    "train_batches, y_batches = batch_data(train_texts, train_labels, batch_size)\n",
    "train_vecs = [encode_text(text) for text in train_batches]\n",
    "\n",
    "# test_vecs = encode_text(test_texts)\n",
    "# train_vecs = encode_text(train_texts)\n",
    "\n",
    "test_batches, ytest_batches = batch_data(test_texts, test_labels, batch_size)\n",
    "test_vecs = [encode_text(text) for text in test_batches]"
   ]
  },
  {
   "cell_type": "code",
   "execution_count": 16,
   "metadata": {
    "collapsed": true
   },
   "outputs": [],
   "source": [
    "# N is batch size; D_in is input dimension;\n",
    "# H is hidden dimension; D_out is output dimension.\n",
    "N, D_in, H, D_out = batch_size, dim, 100, 6\n",
    "\n",
    "batch_idx = 0\n",
    "p_drop = 0.1 # 0.05\n",
    "learning_rate = 1e-4\n",
    "losses = []\n",
    "accuracies = []\n",
    "\n",
    "#loss_fn = entro.cross_entro_loss\n",
    "loss_fn = entro.minimax_cross_entro\n",
    "\n",
    "stats_fn = 'results/text_mm_ce_evals.pkl'"
   ]
  },
  {
   "cell_type": "code",
   "execution_count": 17,
   "metadata": {
    "collapsed": false
   },
   "outputs": [
    {
     "name": "stdout",
     "output_type": "stream",
     "text": [
      "batch 0 | train loss 1.837 acc 0.170 | test loss 1.785 acc 0.250\n",
      "batch 1 | train loss 1.801 acc 0.150 | test loss 1.761 acc 0.230\n",
      "batch 2 | train loss 1.767 acc 0.190 | test loss 1.744 acc 0.230\n",
      "batch 3 | train loss 1.756 acc 0.210 | test loss 1.733 acc 0.220\n",
      "batch 4 | train loss 1.248 acc 0.980 | test loss 1.729 acc 0.227\n",
      "batch 5 | train loss 1.381 acc 0.780 | test loss 1.729 acc 0.228\n",
      "batch 6 | train loss 1.409 acc 0.660 | test loss 1.733 acc 0.233\n",
      "batch 7 | train loss 1.480 acc 0.480 | test loss 1.740 acc 0.235\n",
      "batch 8 | train loss 0.894 acc 0.980 | test loss 1.750 acc 0.225\n",
      "batch 9 | train loss 0.965 acc 0.900 | test loss 1.761 acc 0.217\n",
      "batch 10 | train loss 0.962 acc 0.890 | test loss 1.775 acc 0.208\n",
      "batch 11 | train loss 1.046 acc 0.760 | test loss 1.792 acc 0.203\n",
      "batch 12 | train loss 0.457 acc 0.980 | test loss 1.816 acc 0.210\n",
      "batch 13 | train loss 0.487 acc 0.970 | test loss 1.855 acc 0.217\n",
      "batch 14 | train loss 0.462 acc 0.970 | test loss 1.915 acc 0.215\n",
      "batch 15 | train loss 0.517 acc 0.980 | test loss 2.015 acc 0.205\n",
      "batch 16 | train loss 0.172 acc 0.980 | test loss 2.187 acc 0.217\n",
      "batch 17 | train loss 0.173 acc 0.980 | test loss 2.499 acc 0.215\n",
      "batch 18 | train loss 0.164 acc 0.980 | test loss 3.135 acc 0.220\n",
      "batch 19 | train loss 0.185 acc 0.980 | test loss 4.522 acc 0.230\n",
      "batch 20 | train loss 0.085 acc 0.980 | test loss 7.860 acc 0.223\n",
      "batch 21 | train loss 0.074 acc 0.980 | test loss 16.713 acc 0.230\n",
      "batch 22 | train loss 0.069 acc 0.980 | test loss 41.557 acc 0.230\n",
      "batch 23 | train loss 0.069 acc 0.980 | test loss 112.438 acc 0.230\n",
      "batch 24 | train loss 0.046 acc 0.990 | test loss 315.344 acc 0.235\n",
      "batch 25 | train loss 0.036 acc 0.990 | test loss 906.220 acc 0.237\n",
      "batch 26 | train loss 0.032 acc 0.990 | test loss 2609.257 acc 0.245\n",
      "batch 27 | train loss 0.033 acc 0.990 | test loss 7547.682 acc 0.247\n",
      "batch 28 | train loss 0.017 acc 1.000 | test loss 21942.377 acc 0.250\n",
      "batch 29 | train loss 0.017 acc 1.000 | test loss 63043.001 acc 0.253\n"
     ]
    }
   ],
   "source": [
    "def accuracy(yhat, labels):\n",
    "    maxs, indices = torch.max(torch.exp(yhat), 1)\n",
    "    indices = indices.data.cpu().numpy()\n",
    "    correct = 0\n",
    "    for i in range(labels.shape[0]):\n",
    "        \n",
    "        if indices[i] == labels[i]:\n",
    "            correct += 1\n",
    "    return correct/float(labels.shape[0])\n",
    "\n",
    "model = torch.nn.Sequential(\n",
    "          torch.nn.Linear(D_in, 500),\n",
    "          torch.nn.ReLU(),\n",
    "          torch.nn.Dropout(p=p_drop),\n",
    "          torch.nn.Linear(500, 100),\n",
    "          torch.nn.ReLU(),\n",
    "          torch.nn.Dropout(p=p_drop),\n",
    "          torch.nn.Linear(100, D_out),\n",
    "          torch.nn.Softmax()\n",
    "        )\n",
    "model = model.cuda()\n",
    "opt = optim.Adam(model.parameters())\n",
    "\n",
    "evals = {\n",
    "    'tr_loss': [],\n",
    "    't_loss': [],\n",
    "    'tr_accu': [],\n",
    "    't_accu': [],\n",
    "    'ts': []\n",
    "}\n",
    "\n",
    "for t in range(30):\n",
    "    model.train()\n",
    "    \n",
    "    x = Variable(torch.FloatTensor(train_vecs[t % 4]).cuda(), requires_grad=True)\n",
    "    batch_size = y_batches[t % 4].shape[0]\n",
    "    \n",
    "    yhot = np.zeros((batch_size, D_out))\n",
    "    yhot[[idx for idx in range(yhot.shape[0])], y_batches[batch_idx]] = 1\n",
    "    y = Variable(torch.DoubleTensor(yhot).cuda(), requires_grad=False)\n",
    "    \n",
    "    y_pred = Variable(torch.zeros(batch_size, classes)).cuda().double()\n",
    "    y_preds = [model(x).double() for _ in range(n_samples)]\n",
    "    for y_pred_i in y_preds:\n",
    "        y_pred = y_pred + y_pred_i\n",
    "    y_pred /= n_samples\n",
    "\n",
    "    loss = Variable(torch.zeros(1).cuda(), requires_grad=True).double()\n",
    "    for i in range(batch_size):\n",
    "        loss += loss_fn(y_pred[i], y[i])\n",
    "    loss.backward()\n",
    "    opt.step()\n",
    "    \n",
    "    model.eval()\n",
    "\n",
    "    tr_accu = accuracy(y_pred, np.array(y_batches[batch_idx]))\n",
    "    tr_loss = loss.data[0] / batch_size\n",
    "    \n",
    "    test_losses, test_accus = [], []\n",
    "    for i, test_vec in enumerate(test_vecs):\n",
    "        test_label = ytest_batches[i]\n",
    "        x_vec = Variable(torch.FloatTensor(test_vec).cuda(), requires_grad=True)\n",
    "        test_pred = model(x_vec).double()\n",
    "        \n",
    "        yhot = np.zeros((y_batches[0].shape[0], D_out))\n",
    "        yhot[[i for i in range(yhot.shape[0])], test_label] = 1\n",
    "        y = Variable(torch.DoubleTensor(yhot).cuda(), requires_grad=False)\n",
    "        \n",
    "        test_loss_i = Variable(torch.zeros(1).cuda(), requires_grad=True).double()\n",
    "        for j in range(len(test_vec)):            \n",
    "            test_loss_i += loss_fn(test_pred[j], y[j])\n",
    "            \n",
    "        test_losses.append(test_loss_i.data[0] / len(test_vec))\n",
    "        \n",
    "        test_accus.append(accuracy(test_pred, test_label))       \n",
    "\n",
    "    t_accu = np.mean(test_accus)\n",
    "    t_loss = np.mean(test_losses)\n",
    "    print ('batch {} | train loss {:.3f} acc {:.3f} | test loss {:.3f} acc {:.3f}'.format(t, tr_loss, tr_accu,\n",
    "                                                                                          t_loss, t_accu))\n",
    "    evals['tr_loss'].append(tr_loss)\n",
    "    evals['t_loss'].append(t_loss)\n",
    "    evals['tr_accu'].append(tr_accu)\n",
    "    evals['t_accu'].append(t_accu)\n",
    "    evals['ts'].append(t)"
   ]
  },
  {
   "cell_type": "code",
   "execution_count": 18,
   "metadata": {
    "collapsed": false
   },
   "outputs": [],
   "source": [
    "with open(stats_fn, 'w') as f:\n",
    "    dump(evals, f)"
   ]
  },
  {
   "cell_type": "code",
   "execution_count": 164,
   "metadata": {
    "collapsed": false
   },
   "outputs": [
    {
     "data": {
      "image/png": "[encoded data removed]",
      "text/plain": [
       "<matplotlib.figure.Figure at 0x7ff4e9d77e10>"
      ]
     },
     "metadata": {},
     "output_type": "display_data"
    },
    {
     "data": {
      "image/png": "[encoded data removed]",
      "text/plain": [
       "<matplotlib.figure.Figure at 0x7ff5749a1c50>"
      ]
     },
     "metadata": {},
     "output_type": "display_data"
    }
   ],
   "source": [
    "plt.figure()\n",
    "plt.plot(losses)\n",
    "plt.show()\n",
    "\n",
    "plt.figure()\n",
    "plt.plot(accuracies)\n",
    "plt.show()"
   ]
  },
  {
   "cell_type": "code",
   "execution_count": null,
   "metadata": {
    "collapsed": true
   },
   "outputs": [],
   "source": []
  }
 ],
 "metadata": {
  "kernelspec": {
   "display_name": "Python 2",
   "language": "python",
   "name": "python2"
  },
  "language_info": {
   "codemirror_mode": {
    "name": "ipython",
    "version": 2
   },
   "file_extension": ".py",
   "mimetype": "text/x-python",
   "name": "python",
   "nbconvert_exporter": "python",
   "pygments_lexer": "ipython2",
   "version": "2.7.12"
  }
 },
 "nbformat": 4,
 "nbformat_minor": 0
}
