{
 "cells": [
  {
   "cell_type": "code",
   "execution_count": 1,
   "metadata": {
    "collapsed": true
   },
   "outputs": [],
   "source": [
    "from __future__ import print_function\n",
    "import torch\n",
    "from torch.autograd import Variable, Function\n",
    "import torch.nn as nn\n",
    "import torch.nn.functional as F\n",
    "import torch.optim as optim\n",
    "from torchvision import datasets, transforms\n",
    "\n",
    "import scipy.io as sio\n",
    "%matplotlib inline\n",
    "import matplotlib.pyplot as plt\n",
    "import numpy as np\n",
    "\n",
    "from minimax_entropy import MinimaxEntropyEstimator\n",
    "from pickle import dump"
   ]
  },
  {
   "cell_type": "code",
   "execution_count": 2,
   "metadata": {
    "collapsed": false
   },
   "outputs": [
    {
     "ename": "TypeError",
     "evalue": "__init__() takes at least 3 arguments (3 given)",
     "output_type": "error",
     "traceback": [
      "\u001b[1;31m---------------------------------------------------------------------------\u001b[0m",
      "\u001b[1;31mTypeError\u001b[0m                                 Traceback (most recent call last)",
      "\u001b[1;32m<ipython-input-2-9937c5ffea5c>\u001b[0m in \u001b[0;36m<module>\u001b[1;34m()\u001b[0m\n\u001b[0;32m      5\u001b[0m \u001b[0mn_classes\u001b[0m \u001b[1;33m=\u001b[0m \u001b[1;36m10\u001b[0m\u001b[1;33m\u001b[0m\u001b[0m\n\u001b[0;32m      6\u001b[0m \u001b[1;33m\u001b[0m\u001b[0m\n\u001b[1;32m----> 7\u001b[1;33m \u001b[0mentro\u001b[0m \u001b[1;33m=\u001b[0m \u001b[0mMinimaxEntropyEstimator\u001b[0m\u001b[1;33m(\u001b[0m\u001b[1;34m'poly_coeff_entro.mat'\u001b[0m\u001b[1;33m,\u001b[0m \u001b[0mgpu\u001b[0m\u001b[1;33m=\u001b[0m\u001b[0mTrue\u001b[0m\u001b[1;33m)\u001b[0m\u001b[1;33m\u001b[0m\u001b[0m\n\u001b[0m",
      "\u001b[1;31mTypeError\u001b[0m: __init__() takes at least 3 arguments (3 given)"
     ]
    }
   ],
   "source": [
    "# global params\n",
    "batch_size = 64\n",
    "test_batch_size = 1000\n",
    "random_seed = 1\n",
    "n_classes = 10\n",
    "\n",
    "entro = MinimaxEntropyEstimator('poly_coeff_entro.mat', gpu=True)"
   ]
  },
  {
   "cell_type": "code",
   "execution_count": null,
   "metadata": {
    "collapsed": false,
    "scrolled": true
   },
   "outputs": [],
   "source": [
    "# loading data\n",
    "torch.cuda.manual_seed(random_seed)\n",
    "\n",
    "kwargs = {'num_workers': 1, 'pin_memory': True}\n",
    "train_loader = torch.utils.data.DataLoader(\n",
    "    datasets.MNIST('../data', train=True, download=False,\n",
    "                   transform=transforms.Compose([\n",
    "                       transforms.ToTensor(),\n",
    "                       transforms.Normalize((0.1307,), (0.3081,))\n",
    "                   ])),\n",
    "    batch_size=batch_size, shuffle=True, **kwargs)\n",
    "\n",
    "test_loader = torch.utils.data.DataLoader(\n",
    "    datasets.MNIST('../data', train=False, transform=transforms.Compose([\n",
    "                       transforms.ToTensor(),\n",
    "                       transforms.Normalize((0.1307,), (0.3081,))\n",
    "                   ])),\n",
    "    batch_size=test_batch_size, shuffle=True, **kwargs)"
   ]
  },
  {
   "cell_type": "code",
   "execution_count": 3,
   "metadata": {
    "collapsed": true
   },
   "outputs": [],
   "source": [
    "class MNISTModel(nn.Module):\n",
    "    def __init__(self, dropout=0.):\n",
    "        super(MNISTModel, self).__init__()\n",
    "        self.conv1 = nn.Conv2d(1, 10, kernel_size=5)\n",
    "        self.conv2 = nn.Conv2d(10, 20, kernel_size=5)\n",
    "        self.conv2_drop = nn.Dropout2d(dropout)\n",
    "        self.fc1 = nn.Linear(320, 50)\n",
    "        self.fc2 = nn.Linear(50, 10)\n",
    "        \n",
    "        self._dropout = dropout\n",
    "\n",
    "    def forward(self, x):\n",
    "        x = F.relu(F.max_pool2d(self.conv1(x), 2))\n",
    "        x = F.relu(F.max_pool2d(self.conv2_drop(self.conv2(x)), 2))\n",
    "        x = x.view(-1, 320)\n",
    "        x = F.dropout(F.relu(self.fc1(x)), p=self._dropout, training=self.training)\n",
    "        x = F.softmax(self.fc2(x))\n",
    "        return x"
   ]
  },
  {
   "cell_type": "code",
   "execution_count": 4,
   "metadata": {
    "collapsed": false
   },
   "outputs": [],
   "source": [
    "def pred_from_output(output, var=True):\n",
    "    pred = output.data.max(1, keepdim=True)[1]\n",
    "    return Variable(pred) if var else pred\n",
    "\n",
    "def metric_accuracy(model, X, Y):\n",
    "    output = model(X)\n",
    "    pred = pred_from_output(output, var=False)\n",
    "    correct = pred.eq(Y.data.view_as(pred)).cpu().sum()\n",
    "    \n",
    "    return correct/1./Y.size()[0]\n",
    "\n",
    "def metric_loss_gen(L, convert_onehot=False):\n",
    "    def metric_loss(model, X, Y):\n",
    "        output = model(X)\n",
    "        \n",
    "        if convert_onehot:\n",
    "            batch_size, n_classes = output.size()\n",
    "            target = Variable(torch.DoubleTensor(batch_size, n_classes)).cuda()\n",
    "            for i in range(batch_size):\n",
    "                target[i, Y.data[i]] = 1.\n",
    "            pred = output\n",
    "        else:\n",
    "            target = Y\n",
    "            pred = pred_from_output(output)\n",
    "            \n",
    "        pred = pred.double()\n",
    "        losses = [L(pred[i], target[i]).data.cpu().numpy() for i in range(batch_size)]\n",
    "        return np.mean(losses)\n",
    "        \n",
    "    return metric_loss    \n",
    "\n",
    "def eval_model(model, metrics, data_loader, n_batches=0):\n",
    "    model.eval()\n",
    "    \n",
    "    ind_results = {key:[] for key in metrics}\n",
    "    for t, (X, Y) in enumerate(data_loader):\n",
    "        X, Y = X.cuda(), Y.cuda()\n",
    "        X, Y = Variable(X, volatile=True), Variable(Y)\n",
    "        \n",
    "        for key in ind_results:\n",
    "            ind_results[key].append(metrics[key](model, X, Y))\n",
    "        \n",
    "        if n_batches != 0 and t == n_batches:\n",
    "            break\n",
    "            \n",
    "    results = {key: np.mean(val) for key, val in ind_results.items()}\n",
    "    return results\n",
    "            \n",
    "def train(model, opt, L, train_loader, test_loader, n_classes, epoch,\n",
    "          n_samples=1, convert_onehot=False, log_interval=100):\n",
    "    model.train()\n",
    "        \n",
    "    evals = {'tr':[], 't':[], 'ts': [], 'es': []}\n",
    "    for e in range(epoch):\n",
    "        for t, (X, Y) in enumerate(train_loader):\n",
    "            X, Y = X.cuda(), Y.cuda()\n",
    "            X, Y = Variable(X), Variable(Y)\n",
    "            opt.zero_grad()\n",
    "\n",
    "            batch_size = Y.size()[0]\n",
    "            if convert_onehot:\n",
    "                target_onehot = Variable(torch.DoubleTensor(batch_size, n_classes)).cuda()\n",
    "                for i in range(batch_size):\n",
    "                    target_onehot[i, Y.data[i]] = 1.\n",
    "                target = target_onehot\n",
    "            else:\n",
    "                target = Y\n",
    "\n",
    "            mean_output = Variable(torch.DoubleTensor(batch_size, n_classes)).cuda()\n",
    "            \n",
    "            outputs = [model(X).double() for _ in range(n_samples)]\n",
    "            for i in range(batch_size):\n",
    "                for output in outputs:\n",
    "                    mean_output[i] = mean_output[i] + output[i]\n",
    "            mean_output /= n_samples\n",
    "\n",
    "            loss = Variable(torch.zeros(1)).double().cuda()\n",
    "            for i in range(batch_size):\n",
    "                loss += L(output[i], target[i])\n",
    "            loss.backward()\n",
    "\n",
    "            opt.step()\n",
    "            if t % log_interval == 0:\n",
    "                print('Train Epoch: {} [{}/{} ({:.0f}%)]'.format(\n",
    "                    e, t * len(X), len(train_loader.dataset),\n",
    "                    100. * t / len(train_loader)))\n",
    "\n",
    "                mean_loss = loss.data[0] / batch_size\n",
    "                tr_evals = eval_model(model, {'accu': metric_accuracy}, train_loader, 5)\n",
    "                t_evals = eval_model(model, {'loss': metric_loss_gen(L, convert_onehot), 'accu': metric_accuracy}, test_loader, 0)\n",
    "                print('Train| Loss: {:.6f} | Accu: {:.2f}%'.format(mean_loss, tr_evals['accu'] * 100))\n",
    "                print('Test | Loss: {:.6f} | Accu: {:.2f}%'.format(t_evals['loss'], t_evals['accu'] * 100))\n",
    "                \n",
    "                evals['tr'].append(tr_evals)\n",
    "                evals['tr'][-1]['loss'] = mean_loss\n",
    "                evals['t'].append(t_evals)\n",
    "                evals['ts'].append(t)\n",
    "                evals['es'].append(e)\n",
    "            \n",
    "    return evals"
   ]
  },
  {
   "cell_type": "code",
   "execution_count": 5,
   "metadata": {
    "collapsed": true
   },
   "outputs": [],
   "source": [
    "# Training\n",
    "epochs = 1\n",
    "log_interval = 50\n",
    "dropout = 0.3\n",
    "n_samples = 50"
   ]
  },
  {
   "cell_type": "code",
   "execution_count": 6,
   "metadata": {
    "collapsed": false,
    "scrolled": true
   },
   "outputs": [
    {
     "ename": "NameError",
     "evalue": "name 'entro' is not defined",
     "output_type": "error",
     "traceback": [
      "\u001b[1;31m---------------------------------------------------------------------------\u001b[0m",
      "\u001b[1;31mNameError\u001b[0m                                 Traceback (most recent call last)",
      "\u001b[1;32m<ipython-input-6-324f4bf73264>\u001b[0m in \u001b[0;36m<module>\u001b[1;34m()\u001b[0m\n\u001b[0;32m      3\u001b[0m \u001b[0mopt\u001b[0m \u001b[1;33m=\u001b[0m \u001b[0moptim\u001b[0m\u001b[1;33m.\u001b[0m\u001b[0mAdam\u001b[0m\u001b[1;33m(\u001b[0m\u001b[0mmodel_mm\u001b[0m\u001b[1;33m.\u001b[0m\u001b[0mparameters\u001b[0m\u001b[1;33m(\u001b[0m\u001b[1;33m)\u001b[0m\u001b[1;33m)\u001b[0m\u001b[1;33m\u001b[0m\u001b[0m\n\u001b[0;32m      4\u001b[0m \u001b[1;33m\u001b[0m\u001b[0m\n\u001b[1;32m----> 5\u001b[1;33m mm_evals = train(model_mm, opt, entro.minimax_cross_entro_loss, train_loader, test_loader, n_classes, epoch,\n\u001b[0m\u001b[0;32m      6\u001b[0m          n_samples=n_samples, convert_onehot=True, log_interval=log_interval)\n",
      "\u001b[1;31mNameError\u001b[0m: name 'entro' is not defined"
     ]
    }
   ],
   "source": [
    "model_mm = MNISTModel(dropout=dropout)\n",
    "model_mm.cuda()\n",
    "opt = optim.Adam(model_mm.parameters())\n",
    "\n",
    "mm_evals = train(model_mm, opt, entro.minimax_cross_entro_loss, train_loader, test_loader, n_classes, epoch,\n",
    "         n_samples=n_samples, convert_onehot=True, log_interval=log_interval)"
   ]
  },
  {
   "cell_type": "code",
   "execution_count": 169,
   "metadata": {
    "collapsed": true
   },
   "outputs": [],
   "source": [
    "with open('results/mnist_mm_evals.pkl', 'w') as f:\n",
    "    dump(mm_evals, f)"
   ]
  },
  {
   "cell_type": "code",
   "execution_count": null,
   "metadata": {
    "collapsed": true
   },
   "outputs": [],
   "source": []
  },
  {
   "cell_type": "code",
   "execution_count": null,
   "metadata": {
    "collapsed": true
   },
   "outputs": [],
   "source": []
  },
  {
   "cell_type": "code",
   "execution_count": 165,
   "metadata": {
    "collapsed": false,
    "scrolled": true
   },
   "outputs": [
    {
     "name": "stdout",
     "output_type": "stream",
     "text": [
      "Train Epoch: 1 [0/60000 (0%)]\n",
      "Train| Loss: 3.287637 | Accu: 10.16%\n",
      "{'accu': 0.10669999999999999, 'loss': 3.2391072843750024}\n",
      "Test | Loss: 3.239107 | Accu: 10.67%\n",
      "Train Epoch: 1 [3200/60000 (5%)]\n",
      "Train| Loss: 0.890246 | Accu: 84.64%\n",
      "{'accu': 0.82469999999999977, 'loss': 0.92736552437999697}\n",
      "Test | Loss: 0.927366 | Accu: 82.47%\n",
      "Train Epoch: 1 [6400/60000 (11%)]\n",
      "Train| Loss: 0.350702 | Accu: 86.98%\n",
      "{'accu': 0.91280000000000006, 'loss': 0.49408003280185786}\n",
      "Test | Loss: 0.494080 | Accu: 91.28%\n",
      "Train Epoch: 1 [9600/60000 (16%)]\n",
      "Train| Loss: 0.426072 | Accu: 90.89%\n",
      "{'accu': 0.93720000000000003, 'loss': 0.3688450110859246}\n",
      "Test | Loss: 0.368845 | Accu: 93.72%\n",
      "Train Epoch: 1 [12800/60000 (21%)]\n",
      "Train| Loss: 0.237211 | Accu: 94.27%\n",
      "{'accu': 0.9494999999999999, 'loss': 0.29456302777046467}\n",
      "Test | Loss: 0.294563 | Accu: 94.95%\n",
      "Train Epoch: 1 [16000/60000 (27%)]\n",
      "Train| Loss: 0.190189 | Accu: 92.71%\n",
      "{'accu': 0.95419999999999994, 'loss': 0.2744839988554752}\n",
      "Test | Loss: 0.274484 | Accu: 95.42%\n",
      "Train Epoch: 1 [19200/60000 (32%)]\n",
      "Train| Loss: 0.181120 | Accu: 94.53%\n",
      "{'accu': 0.96329999999999993, 'loss': 0.21491335787594865}\n",
      "Test | Loss: 0.214913 | Accu: 96.33%\n",
      "Train Epoch: 1 [22400/60000 (37%)]\n",
      "Train| Loss: 0.145831 | Accu: 97.40%\n",
      "{'accu': 0.96629999999999983, 'loss': 0.19073745102451711}\n",
      "Test | Loss: 0.190737 | Accu: 96.63%\n",
      "Train Epoch: 1 [25600/60000 (43%)]\n",
      "Train| Loss: 0.113462 | Accu: 96.61%\n",
      "{'accu': 0.97059999999999991, 'loss': 0.16942140746245696}\n",
      "Test | Loss: 0.169421 | Accu: 97.06%\n",
      "Train Epoch: 1 [28800/60000 (48%)]\n",
      "Train| Loss: 0.237413 | Accu: 96.88%\n",
      "{'accu': 0.96879999999999988, 'loss': 0.18785469903977428}\n",
      "Test | Loss: 0.187855 | Accu: 96.88%\n",
      "Train Epoch: 1 [32000/60000 (53%)]\n",
      "Train| Loss: 0.114545 | Accu: 98.18%\n",
      "{'accu': 0.9728, 'loss': 0.16263615904068687}\n",
      "Test | Loss: 0.162636 | Accu: 97.28%\n",
      "Train Epoch: 1 [35200/60000 (59%)]\n",
      "Train| Loss: 0.220141 | Accu: 97.66%\n",
      "{'accu': 0.97680000000000011, 'loss': 0.13893009020620101}\n",
      "Test | Loss: 0.138930 | Accu: 97.68%\n",
      "Train Epoch: 1 [38400/60000 (64%)]\n",
      "Train| Loss: 0.106717 | Accu: 97.14%\n",
      "{'accu': 0.97569999999999979, 'loss': 0.14534069682052614}\n",
      "Test | Loss: 0.145341 | Accu: 97.57%\n",
      "Train Epoch: 1 [41600/60000 (69%)]\n",
      "Train| Loss: 0.042982 | Accu: 99.22%\n",
      "{'accu': 0.97619999999999985, 'loss': 0.13207356672111048}\n",
      "Test | Loss: 0.132074 | Accu: 97.62%\n",
      "Train Epoch: 1 [44800/60000 (75%)]\n",
      "Train| Loss: 0.065415 | Accu: 97.40%\n",
      "{'accu': 0.97810000000000008, 'loss': 0.13524846265692864}\n",
      "Test | Loss: 0.135248 | Accu: 97.81%\n",
      "Train Epoch: 1 [48000/60000 (80%)]\n",
      "Train| Loss: 0.102192 | Accu: 98.96%\n",
      "{'accu': 0.97709999999999986, 'loss': 0.13744716888264036}\n",
      "Test | Loss: 0.137447 | Accu: 97.71%\n",
      "Train Epoch: 1 [51200/60000 (85%)]\n",
      "Train| Loss: 0.089923 | Accu: 97.92%\n",
      "{'accu': 0.97899999999999987, 'loss': 0.12512927810927654}\n",
      "Test | Loss: 0.125129 | Accu: 97.90%\n",
      "Train Epoch: 1 [54400/60000 (91%)]\n",
      "Train| Loss: 0.333371 | Accu: 96.35%\n",
      "{'accu': 0.97749999999999981, 'loss': 0.12854246381036399}\n",
      "Test | Loss: 0.128542 | Accu: 97.75%\n",
      "Train Epoch: 1 [57600/60000 (96%)]\n",
      "Train| Loss: 0.088026 | Accu: 97.40%\n",
      "{'accu': 0.97910000000000008, 'loss': 0.1188584432384245}\n",
      "Test | Loss: 0.118858 | Accu: 97.91%\n"
     ]
    }
   ],
   "source": [
    "model = MNISTModel(dropout=dropout)\n",
    "model.cuda()\n",
    "opt = optim.Adam(model.parameters())\n",
    "\n",
    "mle_evals = train(model, opt, entro.cross_entro_loss, train_loader, test_loader, n_classes, epoch,\n",
    "         n_samples=n_samples, convert_onehot=True, log_interval=log_interval)"
   ]
  },
  {
   "cell_type": "code",
   "execution_count": 167,
   "metadata": {
    "collapsed": true
   },
   "outputs": [],
   "source": [
    "with open('results/mnist_mle_evals.pkl', 'w') as f:\n",
    "    dump(mle_evals, f)"
   ]
  }
 ],
 "metadata": {
  "kernelspec": {
   "display_name": "Python 2",
   "language": "python",
   "name": "python2"
  },
  "language_info": {
   "codemirror_mode": {
    "name": "ipython",
    "version": 2
   },
   "file_extension": ".py",
   "mimetype": "text/x-python",
   "name": "python",
   "nbconvert_exporter": "python",
   "pygments_lexer": "ipython2",
   "version": "2.7.12"
  }
 },
 "nbformat": 4,
 "nbformat_minor": 0
}
